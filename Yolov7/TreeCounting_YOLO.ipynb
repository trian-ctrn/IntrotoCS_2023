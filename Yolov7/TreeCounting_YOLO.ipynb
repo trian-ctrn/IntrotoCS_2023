{
  "cells": [
    {
      "cell_type": "markdown",
      "metadata": {
        "id": "cTPq71Rv9ltX"
      },
      "source": [
        "## Stop Colab from disconnecting\n",
        "Paste the following code into the web console (Ctrl + Shift + I). This code will simulate a click on the “Connect” button every minute, which will keep the notebook active."
      ]
    },
    {
      "cell_type": "code",
      "execution_count": null,
      "metadata": {
        "id": "gJi6293L9cOQ"
      },
      "outputs": [],
      "source": [
        "\"\"\"\n",
        "function ConnectButton(){\n",
        "    console.log(\"Connect pushed\");\n",
        "    document.querySelector(\"#top-toolbar > colab-connect-button\").shadowRoot.querySelector(\"#connect\").click()\n",
        "}\n",
        "setInterval(ConnectButton,60000);\n",
        "\"\"\""
      ]
    },
    {
      "cell_type": "markdown",
      "metadata": {
        "id": "XwnBf_hS9sFv"
      },
      "source": [
        "## Set up"
      ]
    },
    {
      "cell_type": "code",
      "execution_count": null,
      "metadata": {
        "colab": {
          "base_uri": "https://localhost:8080/"
        },
        "id": "0AtP-vz89u4P",
        "outputId": "3caf40a9-5a0b-419d-ec78-a874627529a2"
      },
      "outputs": [
        {
          "name": "stdout",
          "output_type": "stream",
          "text": [
            "Mounted at /content/gdrive\n"
          ]
        }
      ],
      "source": [
        "from google.colab import drive\n",
        "drive.mount('/content/gdrive', force_remount=True)"
      ]
    },
    {
      "cell_type": "markdown",
      "metadata": {
        "id": "Sa0VsGJkB_UL"
      },
      "source": [
        "## Download yolov7 necessary files"
      ]
    },
    {
      "cell_type": "code",
      "execution_count": null,
      "metadata": {
        "colab": {
          "base_uri": "https://localhost:8080/"
        },
        "id": "m1It0iirA1sw",
        "outputId": "6d2fb172-0672-4c2f-fbae-440a0bf047b4"
      },
      "outputs": [],
      "source": [
        "%cd /content/gdrive/MyDrive/IntrotoCS_Tree/Yolov7\n",
        "!git clone https://github.com/WongKinYiu/yolov7.git\n",
        "%cd /content/gdrive/MyDrive/IntrotoCS_Tree/Yolov7/yolov7\n",
        "!wget https://github.com/WongKinYiu/yolov7/releases/download/v0.1/yolov7.pt"
      ]
    },
    {
      "cell_type": "code",
      "execution_count": null,
      "metadata": {
        "colab": {
          "base_uri": "https://localhost:8080/"
        },
        "id": "GHmLuvtt9yvo",
        "outputId": "b9b00b0d-ea54-4bd0-e9cd-56798a2d0b34"
      },
      "outputs": [],
      "source": [
        "!pip install thop\n",
        "!pip install torchprofile\n",
        "!pip install -r requirements.txt"
      ]
    },
    {
      "cell_type": "markdown",
      "metadata": {
        "id": "M5Hgdv4fFZ7B"
      },
      "source": [
        "## Train model\n"
      ]
    },
    {
      "cell_type": "code",
      "execution_count": null,
      "metadata": {
        "colab": {
          "base_uri": "https://localhost:8080/"
        },
        "id": "xhOxOctesRk7",
        "outputId": "2f37744b-80a0-4435-97b5-c9604c855b3e"
      },
      "outputs": [],
      "source": [
        "!python train.py --batch 16 --epochs 50 --data data/treecounting.yaml --weights 'yolov7.pt' --workers 8 --device 0"
      ]
    },
    {
      "cell_type": "markdown",
      "metadata": {
        "id": "oRKRL5ePFeGw"
      },
      "source": [
        "## Detect/Test model"
      ]
    },
    {
      "cell_type": "code",
      "execution_count": null,
      "metadata": {
        "colab": {
          "base_uri": "https://localhost:8080/"
        },
        "id": "Kup3MaDMFgSI",
        "outputId": "02982312-d9b9-419c-f59c-6107264ace59"
      },
      "outputs": [],
      "source": [
        "!python detect.py --weights runs/train/exp27/weights/best.pt --conf 0.25 --img-size 1024 --source /content/gdrive/MyDrive/IntrotoCS_Tree/ver12/val/images"
      ]
    },
    {
      "cell_type": "code",
      "execution_count": null,
      "metadata": {
        "colab": {
          "base_uri": "https://localhost:8080/"
        },
        "id": "VUHDDT2CloKy",
        "outputId": "256d6bca-85fd-454b-a6c9-a812998b6222"
      },
      "outputs": [],
      "source": [
        "!python3 test.py --weights runs/train/exp27/weights/best.pt --task test --data data/treecounting.yaml --img-size 1024 --conf-thres 0.40"
      ]
    },
    {
      "cell_type": "markdown",
      "metadata": {
        "id": "BMLw82SZlzVX"
      },
      "source": [
        "## Reference\n",
        "https://medium.com/mlearning-ai/object-detection-with-yolov7-a74fa1f03c7e"
      ]
    }
  ],
  "metadata": {
    "accelerator": "GPU",
    "colab": {
      "collapsed_sections": [
        "ASmWT6Hs_yRv",
        "Sa0VsGJkB_UL",
        "XwnBf_hS9sFv"
      ],
      "gpuType": "T4",
      "provenance": []
    },
    "kernelspec": {
      "display_name": "Python 3",
      "name": "python3"
    },
    "language_info": {
      "name": "python"
    }
  },
  "nbformat": 4,
  "nbformat_minor": 0
}
